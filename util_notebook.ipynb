{
 "cells": [
  {
   "cell_type": "code",
   "execution_count": null,
   "metadata": {},
   "outputs": [],
   "source": [
    "import pickle\n",
    "\n",
    "# Specify the path to your .pkl file\n",
    "pkl_file_path = 'datasets\\ServerMachineDataset\\processed\\machine-1-1_test.pkl'\n",
    "\n",
    "# Open and read the .pkl file\n",
    "with open(pkl_file_path, 'rb') as file:\n",
    "    loaded_data = pickle.load(file)"
   ]
  },
  {
   "cell_type": "code",
   "execution_count": null,
   "metadata": {},
   "outputs": [],
   "source": [
    "import pandas as pd\n",
    "pd.DataFrame(loaded_data)\n",
    "\n"
   ]
  },
  {
   "cell_type": "code",
   "execution_count": null,
   "metadata": {},
   "outputs": [],
   "source": [
    "swat = pd.read_csv('datasets\\data\\SWaT_Dataset_Attack_v0.csv')\n",
    "swat.columns"
   ]
  },
  {
   "cell_type": "code",
   "execution_count": null,
   "metadata": {},
   "outputs": [],
   "source": [
    "\n",
    "#from matplotlib import pyplot as plt\n",
    "#for c in swat.columns[1:51]:\n",
    "#    fig = plt.figure()\n",
    "#    plt.plot(swat[c].values)\n",
    "#    plt.plot(swat['Normal/Attack']=='Normal')"
   ]
  },
  {
   "cell_type": "code",
   "execution_count": null,
   "metadata": {},
   "outputs": [],
   "source": [
    "swat = swat.drop(' Timestamp', axis=1)\n",
    "labels = (swat['Normal/Attack'].values=='Attack')\n",
    "values = swat.drop('Normal/Attack', axis=1).values\n",
    "\n",
    "\n",
    "#from sklearn.preprocessing  import StandardScaler\n",
    "#scaler = StandardScaler()\n",
    "#values = scaler.fit_transform(values) "
   ]
  },
  {
   "cell_type": "code",
   "execution_count": null,
   "metadata": {},
   "outputs": [],
   "source": [
    "x = values[:, 6]\n",
    "plt.plot(x)\n"
   ]
  },
  {
   "cell_type": "code",
   "execution_count": null,
   "metadata": {},
   "outputs": [],
   "source": [
    "train_test_split=0.7\n",
    "\n",
    "train_values = values[:int(train_test_split*len(labels)),:]\n",
    "train_labels = labels[:int(train_test_split*len(labels))]\n",
    "\n",
    "test_values = values[int(train_test_split*len(labels)):,:]\n",
    "test_labels = labels[int(train_test_split*len(labels)):]\n",
    "\n",
    "train_values[train_labels==False].shape"
   ]
  },
  {
   "cell_type": "code",
   "execution_count": null,
   "metadata": {},
   "outputs": [],
   "source": [
    "import pickle\n",
    "\n",
    "#dump train values into file\n",
    "path = 'datasets/data/processed/SWAT_train.pkl'\n",
    "with open(path, 'wb') as file:\n",
    "    pickle.dump(train_values, file)\n",
    "\n",
    "\n",
    "\n",
    "#dump test values into file\n",
    "path = 'datasets/data/processed/SWAT_test.pkl'\n",
    "with open(path, 'wb') as file:\n",
    "    pickle.dump(test_values, file)\n",
    "\n",
    "\n",
    "#dump test labels into file\n",
    "path = 'datasets/data/processed/SWAT_test_label.pkl'\n",
    "with open(path, 'wb') as file:\n",
    "    pickle.dump(test_labels, file)"
   ]
  },
  {
   "cell_type": "code",
   "execution_count": null,
   "metadata": {},
   "outputs": [],
   "source": [
    "import numpy as np\n",
    "from matplotlib import pyplot as plt\n",
    "x = values[:, 6]\n",
    "plt.plot(x[7170:7500])\n",
    "#plt.plot(x)"
   ]
  },
  {
   "cell_type": "code",
   "execution_count": null,
   "metadata": {},
   "outputs": [],
   "source": [
    "from scipy import stats\n",
    "\n",
    "fft_result = np.fft.fft(x)\n",
    "log_amplitude = np.log(np.abs(fft_result))\n",
    "phase = np.angle(fft_result)\n",
    "window_size = 20\n",
    "smoothed_log_amplitude = np.convolve(log_amplitude, np.ones(window_size)/window_size, mode = 'same')\n",
    "residual_log_amplitude = smoothed_log_amplitude-log_amplitude\n",
    "im_unit = 1j\n",
    "sr = np.abs(np.fft.ifft(np.exp(residual_log_amplitude + im_unit*phase)))\n",
    "tau = 1\n",
    "sr_mean = np.mean(sr)\n",
    "sr_var = np.var(sr)\n",
    "outliers =  ((sr-sr_mean) > tau*sr_mean)\n",
    "x_replaced = x\n",
    "x_replaced[outliers] = stats.mode(x)[0]"
   ]
  },
  {
   "cell_type": "code",
   "execution_count": null,
   "metadata": {},
   "outputs": [],
   "source": [
    "np.where(outliers)\n",
    "plt.figure()\n",
    "#plt.plot(x_replaced[7270:7400])\n",
    "#plt.plot(x[7270:7400])\n",
    "plt.plot(outliers)"
   ]
  },
  {
   "cell_type": "code",
   "execution_count": null,
   "metadata": {},
   "outputs": [],
   "source": [
    "plt.figure()\n",
    "res = sr-sr_mean\n",
    "plt.plot(res[7270:7400])\n",
    "plt.plot(outliers[7270:7400])\n"
   ]
  },
  {
   "cell_type": "code",
   "execution_count": null,
   "metadata": {},
   "outputs": [],
   "source": [
    "np.sum(outliers)"
   ]
  },
  {
   "cell_type": "code",
   "execution_count": null,
   "metadata": {},
   "outputs": [],
   "source": [
    "import numpy as np\n",
    "def spectral_residual_replace(x, tau=20, window_size=20):\n",
    "    #compute fourier transform\n",
    "    fft_result = np.fft.fft(x)\n",
    "\n",
    "    #compute phase and log amplitude of fft\n",
    "    log_amplitude = np.log(np.abs(fft_result)) \n",
    "    phase = np.angle(fft_result)\n",
    "    \n",
    "    #smooth the amplitude and compute the residual\n",
    "    smoothed_log_amplitude = np.convolve(log_amplitude, np.ones(window_size)/window_size, mode = 'same')\n",
    "    residual_log_amplitude = smoothed_log_amplitude-log_amplitude\n",
    "    \n",
    "    #compute the spectral residual\n",
    "    im_unit = 1j\n",
    "    sr = np.abs(np.fft.ifft(np.exp(residual_log_amplitude + im_unit*phase)))\n",
    "    \n",
    "    #identify outliers\n",
    "    sr_mean = np.mean(sr)\n",
    "    sr_var = np.var(sr)\n",
    "    outliers =  ((sr-sr_mean) > tau*sr_mean)\n",
    "    \n",
    "    #replace outliers\n",
    "    x_replaced = x\n",
    "    x_replaced[outliers] = np.mean(x) \n",
    "\n",
    "    return x_replaced\n",
    "\n"
   ]
  },
  {
   "cell_type": "code",
   "execution_count": null,
   "metadata": {},
   "outputs": [],
   "source": [
    "import pandas as pd\n",
    "wadi = pd.read_csv('C:/Users/giuli/Documents/mtad-gat-pytorch/datasets/data/WADI_attackdataLABLE.csv', delimiter=',', skiprows=1 )\n",
    "#skab_attack = pd.read_csv('C:/Users/g.nenna/Documents/GitHub/mtad-gat-pytorch/datasets/data/SKAB/attacks/2.csv', delimiter=';')\n",
    "wadi = wadi.drop('Row ', axis=1)\n",
    "wadi = wadi.drop('Date ', axis=1)\n",
    "wadi = wadi.drop('Time', axis=1)\n",
    "wadi = wadi.drop('2_LS_001_AL', axis=1) #nan column\n",
    "wadi = wadi.drop('2_LS_002_AL', axis=1) #nan column\n",
    "wadi = wadi.drop('2_P_001_STATUS', axis=1) #nan column\n",
    "wadi = wadi.drop('2_P_002_STATUS', axis=1) #nan column\n",
    "wadi = wadi.dropna(axis=0)\n",
    "\n",
    "labels = (wadi['Attack LABLE (1:No Attack, -1:Attack)'].values==-1)\n",
    "values = wadi.drop('Attack LABLE (1:No Attack, -1:Attack)', axis=1).values\n",
    "        "
   ]
  },
  {
   "cell_type": "code",
   "execution_count": null,
   "metadata": {},
   "outputs": [],
   "source": [
    "from sklearn.preprocessing  import StandardScaler, QuantileTransformer\n",
    "from matplotlib import pyplot as plt\n",
    "scaler = QuantileTransformer(output_distribution='normal')\n",
    "values_scaled = scaler.fit_transform(values)\n",
    "plt.plot(values[:,0])"
   ]
  },
  {
   "cell_type": "code",
   "execution_count": null,
   "metadata": {},
   "outputs": [],
   "source": [
    "plt.plot(values_scaled[:,0])"
   ]
  },
  {
   "cell_type": "code",
   "execution_count": null,
   "metadata": {},
   "outputs": [],
   "source": [
    "plt.plot(wadi['Row '])\n",
    "\n",
    "np.sum(wadi['Attack LABLE (1:No Attack, -1:Attack)']==-1)/172803"
   ]
  },
  {
   "cell_type": "code",
   "execution_count": null,
   "metadata": {},
   "outputs": [],
   "source": [
    "wadi.iloc[2,80:90]"
   ]
  },
  {
   "cell_type": "code",
   "execution_count": null,
   "metadata": {},
   "outputs": [],
   "source": [
    "wadi['2_P_001_STATUS']"
   ]
  },
  {
   "cell_type": "code",
   "execution_count": null,
   "metadata": {},
   "outputs": [],
   "source": [
    "import pandas as pd\n",
    "skab = pd.read_csv('C:/Users/giuli/Documents/mtad-gat-pytorch/datasets/data/SKAB/anomaly-free.csv', delimiter=';' )\n",
    "\n",
    "skab"
   ]
  },
  {
   "cell_type": "code",
   "execution_count": null,
   "metadata": {},
   "outputs": [],
   "source": [
    "from matplotlib import pyplot as plt\n",
    "skab_attack = pd.read_csv(\n",
    "    'C:/Users/giuli/Documents/mtad-gat-pytorch/datasets/data/SKAB/attacks/1.csv', \n",
    "    delimiter=';' )\n",
    "\n",
    "plt.plot(skab_attack.iloc[:,1])\n"
   ]
  },
  {
   "cell_type": "code",
   "execution_count": null,
   "metadata": {},
   "outputs": [],
   "source": [
    "plt.plot(skab.iloc[:,1])"
   ]
  },
  {
   "cell_type": "code",
   "execution_count": null,
   "metadata": {},
   "outputs": [],
   "source": [
    "kpi = pd.read_csv('C:/Users/giuli/Documents/mtad-gat-pytorch/datasets/data/KPI/train.csv' )\n",
    "kpi"
   ]
  },
  {
   "cell_type": "code",
   "execution_count": null,
   "metadata": {},
   "outputs": [],
   "source": [
    "plt.plot(kpi['timestamp'])\n"
   ]
  },
  {
   "cell_type": "code",
   "execution_count": null,
   "metadata": {},
   "outputs": [],
   "source": [
    "from matplotlib import pyplot as plt\n",
    "X_train = pd.read_csv('C:/Users/giuli/Documents/mtad-gat-pytorch/datasets/data/ACT/Train/X_train.txt', delimiter=' ', header=None)\n",
    "X_test = pd.read_csv('C:/Users/giuli/Documents/mtad-gat-pytorch/datasets/data/ACT/Test/X_test.txt', delimiter=' ', header=None)\n",
    "\n",
    "X = pd.concat([X_train, X_test], axis=0, ignore_index=True)\n",
    "y_train = pd.read_csv('C:/Users/giuli/Documents/mtad-gat-pytorch/datasets/data/ACT/Train/Y_train.txt', delimiter=' ', header=None)\n",
    "y_test = pd.read_csv('C:/Users/giuli/Documents/mtad-gat-pytorch/datasets/data/ACT/Test/Y_test.txt', delimiter=' ', header=None)\n",
    "\n",
    "Y = pd.concat([y_train, y_test], axis=0, ignore_index=True)\n",
    "y_anomaly = ([x in range(7,13) for x in Y.values])\n",
    "plt.figure()\n",
    "plt.plot(y_train[0:1000])\n",
    "plt.plot(y_anomaly[0:1000])\n",
    "#plt.plot(X_train.iloc[0:1000,2])\n"
   ]
  },
  {
   "cell_type": "code",
   "execution_count": null,
   "metadata": {},
   "outputs": [],
   "source": [
    "import numpy as np\n",
    "np.array(y_anomaly)"
   ]
  },
  {
   "cell_type": "code",
   "execution_count": null,
   "metadata": {},
   "outputs": [],
   "source": [
    "plt.hist(y_train)"
   ]
  },
  {
   "cell_type": "code",
   "execution_count": null,
   "metadata": {},
   "outputs": [],
   "source": [
    "X"
   ]
  },
  {
   "cell_type": "code",
   "execution_count": null,
   "metadata": {},
   "outputs": [],
   "source": [
    "from scipy.io import arff\n",
    "import pandas as pd\n",
    "\n",
    "# Replace 'your_file.arff' with the actual path to your ARFF file\n",
    "file_path = 'C:/Users/giuli/Documents/mtad-gat-pytorch/datasets/data/EEG/EEG Eye State.arff'\n",
    "\n",
    "# Load ARFF file\n",
    "data, meta = arff.loadarff(file_path)\n",
    "\n",
    "# Convert the data to a Pandas DataFrame\n",
    "df = pd.DataFrame(data)\n",
    "\n",
    "# Display the DataFrame\n",
    "print(df)\n"
   ]
  },
  {
   "cell_type": "code",
   "execution_count": null,
   "metadata": {},
   "outputs": [],
   "source": [
    "from sklearn.preprocessing import StandardScaler\n",
    "scaler = StandardScaler()\n",
    "plt.figure()\n",
    "#plt.plot(scaler.fit_transform(df.iloc[0:1000,0].values.reshape(-1,1)))\n",
    "plt.plot(df.iloc[:,14].values)"
   ]
  },
  {
   "cell_type": "code",
   "execution_count": null,
   "metadata": {},
   "outputs": [],
   "source": [
    "metro = pd.read_csv('C:/Users/giuli/Documents/mtad-gat-pytorch/datasets/data/MetroPT3.csv')"
   ]
  },
  {
   "cell_type": "code",
   "execution_count": null,
   "metadata": {},
   "outputs": [],
   "source": [
    "metro.timestamp = pd.to_datetime(metro.timestamp)\n",
    "metro.timestamp"
   ]
  },
  {
   "cell_type": "code",
   "execution_count": null,
   "metadata": {},
   "outputs": [],
   "source": [
    "start_attack = ['2020-04-18 00:00:00', '2020-05-29 23:30:00', '2020-06-05 10:00:00', '2020-07-15 14:30:00']\n",
    "end_attack = ['2020-04-18 23:59:00', '2020-05-30 06:00:00', '2020-06-07 14:30:00', '2020-07-15 19:00:00']\n",
    "label = np.zeros(metro.shape[0])\n",
    "for i in range(4):\n",
    "    label += ((metro.timestamp>=start_attack[i] ) & (metro.timestamp<=end_attack[i])).values\n",
    "label = label==1\n",
    "\n",
    "test_mask = (metro.timestamp >= '2020-04-17 00:00:00') & (metro.timestamp <= '2020-07-16 00:00:00')\n",
    "train_mask = np.logical_not(test_mask)\n",
    "metro_test = metro[test_mask]\n",
    "metro_train = metro[train_mask]\n"
   ]
  },
  {
   "cell_type": "code",
   "execution_count": null,
   "metadata": {},
   "outputs": [],
   "source": [
    "((metro.timestamp>=start_attack[i] ) & (metro.timestamp<=end_attack[i])).values"
   ]
  },
  {
   "cell_type": "code",
   "execution_count": null,
   "metadata": {},
   "outputs": [],
   "source": [
    "metro_test.iloc[:,2:]"
   ]
  },
  {
   "cell_type": "markdown",
   "metadata": {},
   "source": [
    "## esplorazione dati iveco"
   ]
  },
  {
   "cell_type": "code",
   "execution_count": 143,
   "metadata": {
    "tags": []
   },
   "outputs": [],
   "source": [
    "\n",
    "\n"
   ]
  },
  {
   "cell_type": "code",
   "execution_count": 48,
   "metadata": {
    "tags": []
   },
   "outputs": [
    {
     "name": "stdout",
     "output_type": "stream",
     "text": [
      "(2173, 1004)\n",
      "(6832, 1004)\n"
     ]
    }
   ],
   "source": [
    "\n",
    "print(work_df[work_df['chassis'].isin(anomaly_free_veichles) ].shape)\n",
    "print(work_df[work_df['chassis'].isin(claimed_veichles) ].shape)"
   ]
  },
  {
   "cell_type": "code",
   "execution_count": null,
   "metadata": {},
   "outputs": [],
   "source": [
    "\n",
    "len(unique)"
   ]
  },
  {
   "cell_type": "code",
   "execution_count": 5,
   "metadata": {},
   "outputs": [],
   "source": [
    "import pandas as pd\n",
    "import os\n",
    "from sklearn.decomposition import PCA\n",
    "from sklearn.preprocessing import StandardScaler\n",
    "import numpy as np\n",
    "dfs = []\n",
    "path = \"datasets/data/IVECO\"\n",
    "\n",
    "anomaly_free_veichles = ['ZCFCR35A005525500', 'ZCFCR35A005544595','ZCFCR35A305520050','ZCFCR35A305549323','ZCFCR35A505551221']\n",
    "claimed_veichles = ['ZCFCS72A705490017','ZCFCR35A605433257','ZCFCS35AX05524066','ZCFCR35A905456015','ZCFCR35A805535577']\n",
    "claim_dates = ['21/04/2023','14/07/2023','14/07/2023','22/09/2023','09/10/2023']\n",
    "datetime_series = pd.to_datetime(claim_dates, format='%d/%m/%Y')\n",
    "\n",
    "claims = pd.DataFrame({'chassis': claimed_veichles,'claim_date': datetime_series})\n",
    "\n",
    "for filename in os.listdir(path):\n",
    "    if filename.endswith('.csv'):\n",
    "        file_path = os.path.join(path, filename)\n",
    "        df = pd.read_csv(file_path)\n",
    "        df['startOfSampling'] = pd.to_datetime(df['startOfSampling'])\n",
    "        df['endOfSampling'] = pd.to_datetime(df['endOfSampling'])\n",
    "        df = df.sort_values(by='startOfSampling')\n",
    "        dfs.append(df)\n",
    "\n",
    "work_df = pd.concat(dfs)\n",
    "work_df.reset_index(drop = True, inplace = True)\n",
    "\n",
    "\n",
    "index_columns = work_df.iloc[:,:5] #tolgo colonne di servizio\n",
    "work_df = work_df.iloc[:,5:]\n",
    "thresh = 0.9 #threshold per determinare quanti missing value sono necessari per buttare un gruppo di parametri\n",
    "reduce_pca = True #flag per ridurre i gruppi di colonne ad una sola colonna tramite pca\n",
    "n_columns = len(work_df.columns)\n",
    "names = [work_df.columns.str.split('_')[i][0] for i in range(n_columns)] #prima parte dei nomi delle colonne\n",
    "unique = list(set(names)) #nomi dei gruppi di colonne\n",
    "\n",
    "na_rate = []\n",
    "clean_df = pd.DataFrame()\n",
    "\n",
    "for i in range(len(unique)): #per ciascun gruppo di colonne\n",
    "    group_columns = work_df.columns[work_df.columns.str.startswith(unique[i])]  #seleziono il gruppo di parametri che ha lo stesso nome iniziale\n",
    "    group_df = work_df[group_columns] #seleziono la porzione di df relativa a quel gruppo di parametri\n",
    "    rate = np.array(group_df.isna()).sum()/ (group_df.shape[0]* group_df.shape[1]) # calcolo quanti dati mancanti ci sono per quella porzione di dataframe\n",
    "    na_rate.append(rate)\n",
    "    if rate > thresh: #se ho troppi dati mancanti\n",
    "        continue #escludo il gruppo di colonne\n",
    "\n",
    "    cov = np.nan_to_num(group_df.cov().values) #calcolo la covarianza di ciascuna colonna\n",
    "    dist = (cov - np.zeros(cov.shape)).sum() #calcolo la distanza dalla matrice nulla\n",
    "    if dist < 0.01:#se la covarianza del gruppo di colonne è nulla allora le colonne sono costanti \n",
    "        continue #escludo il gruppo di colonne\n",
    "\n",
    "    for col in group_df.columns: #per ciascuna colonna del gruppo di parametri\n",
    "        if sum(group_df[col].isna())/group_df.shape[0]>thresh: #se in quella colonna ci sono troppi dati mancanti\n",
    "          group_df = group_df.drop(col, axis = 1)# droppo la colonna\n",
    "    # la pulizia delle colonne serve per non creare problemi con la pca (se ci sono troppi nan non ha senso performare pca su quella colonna)  \n",
    "\n",
    "    if group_df.shape[1] > 1 and reduce_pca: #se scelgo di ridurre il gruppo di colonne a una sola colonna\n",
    "        medians = group_df.median() #calcolo le mediane di ciascuna colonna\n",
    "        group_df = group_df.fillna(medians) #pulizia dei nan con la mediana per colonne\n",
    "        scaler = StandardScaler()\n",
    "        group_df_scaled = scaler.fit_transform(group_df) #standardizzazione colonne\n",
    "        pca = PCA(n_components=1)\n",
    "        pc = pca.fit_transform(group_df_scaled) #calcolo pca con una sola componente principale\n",
    "        group_df = pd.DataFrame(pc, columns=[unique[i]]) \n",
    "\n",
    "\n",
    "    clean_df = pd.concat([clean_df, group_df], axis=1)\n",
    "\n",
    "clean_df = pd.concat([index_columns, clean_df], axis = 1)\n",
    "n_columns = len(clean_df.columns)\n",
    "names = [clean_df.columns.str.split('_')[i][0] for i in range(n_columns)] \n",
    "unique = list(set(names))"
   ]
  },
  {
   "cell_type": "code",
   "execution_count": 6,
   "metadata": {},
   "outputs": [
    {
     "data": {
      "text/html": [
       "<div>\n",
       "<style scoped>\n",
       "    .dataframe tbody tr th:only-of-type {\n",
       "        vertical-align: middle;\n",
       "    }\n",
       "\n",
       "    .dataframe tbody tr th {\n",
       "        vertical-align: top;\n",
       "    }\n",
       "\n",
       "    .dataframe thead th {\n",
       "        text-align: right;\n",
       "    }\n",
       "</style>\n",
       "<table border=\"1\" class=\"dataframe\">\n",
       "  <thead>\n",
       "    <tr style=\"text-align: right;\">\n",
       "      <th></th>\n",
       "      <th>SessionId</th>\n",
       "      <th>chassis</th>\n",
       "      <th>startOfSampling</th>\n",
       "      <th>endOfSampling</th>\n",
       "      <th>LastSession</th>\n",
       "      <th>EngineExhaustTemperatureMin_v01</th>\n",
       "      <th>SpeedProfileTime</th>\n",
       "      <th>IntakeManifoldPressureMax_v01</th>\n",
       "      <th>EngineSpeedProfileTime</th>\n",
       "      <th>BatteryChargerConditionTime_v01_7_8</th>\n",
       "      <th>...</th>\n",
       "      <th>EngineFuelTemperatureMax_v01</th>\n",
       "      <th>VehicleSpeedAvg</th>\n",
       "      <th>ExtTempMax_v01</th>\n",
       "      <th>BarometricPressureAvg_v01</th>\n",
       "      <th>GasRailPressureTime</th>\n",
       "      <th>SessionDistance_v02</th>\n",
       "      <th>EngineCoolantTemperatureTime</th>\n",
       "      <th>RoadSlopeDistance</th>\n",
       "      <th>OdoValueAtEnd_v02</th>\n",
       "      <th>EngineInAirPressureAvg_v01</th>\n",
       "    </tr>\n",
       "  </thead>\n",
       "  <tbody>\n",
       "    <tr>\n",
       "      <th>0</th>\n",
       "      <td>9596ebcb-f59b-40c8-9f47-5f08e49cf5db</td>\n",
       "      <td>ZCFCR35A005544595</td>\n",
       "      <td>2023-08-24 08:51:13+00:00</td>\n",
       "      <td>2023-08-24 09:05:23+00:00</td>\n",
       "      <td>True</td>\n",
       "      <td>NaN</td>\n",
       "      <td>-1.056605</td>\n",
       "      <td>NaN</td>\n",
       "      <td>-1.675291</td>\n",
       "      <td>648000.0</td>\n",
       "      <td>...</td>\n",
       "      <td>62</td>\n",
       "      <td>0.411984</td>\n",
       "      <td>27</td>\n",
       "      <td>100</td>\n",
       "      <td>1.413464</td>\n",
       "      <td>20</td>\n",
       "      <td>-1.408751</td>\n",
       "      <td>-1.492082</td>\n",
       "      <td>49680</td>\n",
       "      <td>NaN</td>\n",
       "    </tr>\n",
       "    <tr>\n",
       "      <th>1</th>\n",
       "      <td>e249a436-f9b4-444e-9f3f-ac100a0e9a20</td>\n",
       "      <td>ZCFCR35A305520050</td>\n",
       "      <td>2023-09-01 02:42:36+00:00</td>\n",
       "      <td>2023-09-01 02:57:36+00:00</td>\n",
       "      <td>False</td>\n",
       "      <td>NaN</td>\n",
       "      <td>4.989493</td>\n",
       "      <td>NaN</td>\n",
       "      <td>1.366198</td>\n",
       "      <td>704000.0</td>\n",
       "      <td>...</td>\n",
       "      <td>45</td>\n",
       "      <td>-1.432984</td>\n",
       "      <td>18</td>\n",
       "      <td>100</td>\n",
       "      <td>3.467341</td>\n",
       "      <td>16410</td>\n",
       "      <td>-1.534769</td>\n",
       "      <td>3.390280</td>\n",
       "      <td>37150010</td>\n",
       "      <td>NaN</td>\n",
       "    </tr>\n",
       "    <tr>\n",
       "      <th>2</th>\n",
       "      <td>90e2bc05-dea9-49f7-9edc-b218b983947a</td>\n",
       "      <td>ZCFCR35A305520050</td>\n",
       "      <td>2023-09-01 02:57:36+00:00</td>\n",
       "      <td>2023-09-01 03:12:36+00:00</td>\n",
       "      <td>False</td>\n",
       "      <td>NaN</td>\n",
       "      <td>3.896828</td>\n",
       "      <td>NaN</td>\n",
       "      <td>1.943174</td>\n",
       "      <td>703000.0</td>\n",
       "      <td>...</td>\n",
       "      <td>45</td>\n",
       "      <td>-2.106543</td>\n",
       "      <td>18</td>\n",
       "      <td>100</td>\n",
       "      <td>1.980852</td>\n",
       "      <td>23590</td>\n",
       "      <td>-2.226712</td>\n",
       "      <td>5.120925</td>\n",
       "      <td>37173650</td>\n",
       "      <td>NaN</td>\n",
       "    </tr>\n",
       "    <tr>\n",
       "      <th>3</th>\n",
       "      <td>0b3e446d-4928-4bc6-8edb-6d464a7466d2</td>\n",
       "      <td>ZCFCR35A305520050</td>\n",
       "      <td>2023-09-01 03:12:37+00:00</td>\n",
       "      <td>2023-09-01 03:27:37+00:00</td>\n",
       "      <td>False</td>\n",
       "      <td>NaN</td>\n",
       "      <td>1.135366</td>\n",
       "      <td>NaN</td>\n",
       "      <td>1.537823</td>\n",
       "      <td>707000.0</td>\n",
       "      <td>...</td>\n",
       "      <td>45</td>\n",
       "      <td>-2.194399</td>\n",
       "      <td>17</td>\n",
       "      <td>100</td>\n",
       "      <td>1.897306</td>\n",
       "      <td>24260</td>\n",
       "      <td>-2.825307</td>\n",
       "      <td>5.778177</td>\n",
       "      <td>37197910</td>\n",
       "      <td>NaN</td>\n",
       "    </tr>\n",
       "    <tr>\n",
       "      <th>4</th>\n",
       "      <td>c5255160-9178-43fb-a43e-fc7067eeafea</td>\n",
       "      <td>ZCFCR35A305520050</td>\n",
       "      <td>2023-09-01 03:27:37+00:00</td>\n",
       "      <td>2023-09-01 03:42:37+00:00</td>\n",
       "      <td>False</td>\n",
       "      <td>NaN</td>\n",
       "      <td>0.837419</td>\n",
       "      <td>NaN</td>\n",
       "      <td>2.063445</td>\n",
       "      <td>710000.0</td>\n",
       "      <td>...</td>\n",
       "      <td>44</td>\n",
       "      <td>-1.062501</td>\n",
       "      <td>17</td>\n",
       "      <td>100</td>\n",
       "      <td>2.210814</td>\n",
       "      <td>24405</td>\n",
       "      <td>-2.818158</td>\n",
       "      <td>5.749617</td>\n",
       "      <td>37222315</td>\n",
       "      <td>NaN</td>\n",
       "    </tr>\n",
       "    <tr>\n",
       "      <th>...</th>\n",
       "      <td>...</td>\n",
       "      <td>...</td>\n",
       "      <td>...</td>\n",
       "      <td>...</td>\n",
       "      <td>...</td>\n",
       "      <td>...</td>\n",
       "      <td>...</td>\n",
       "      <td>...</td>\n",
       "      <td>...</td>\n",
       "      <td>...</td>\n",
       "      <td>...</td>\n",
       "      <td>...</td>\n",
       "      <td>...</td>\n",
       "      <td>...</td>\n",
       "      <td>...</td>\n",
       "      <td>...</td>\n",
       "      <td>...</td>\n",
       "      <td>...</td>\n",
       "      <td>...</td>\n",
       "      <td>...</td>\n",
       "      <td>...</td>\n",
       "    </tr>\n",
       "    <tr>\n",
       "      <th>9000</th>\n",
       "      <td>326872a4-23fe-4753-a37d-fcc88c18444e</td>\n",
       "      <td>ZCFCR35A905456015</td>\n",
       "      <td>2023-09-22 07:31:17+00:00</td>\n",
       "      <td>2023-09-22 07:38:26+00:00</td>\n",
       "      <td>True</td>\n",
       "      <td>NaN</td>\n",
       "      <td>-0.496208</td>\n",
       "      <td>NaN</td>\n",
       "      <td>-1.111826</td>\n",
       "      <td>340000.0</td>\n",
       "      <td>...</td>\n",
       "      <td>53</td>\n",
       "      <td>-1.374413</td>\n",
       "      <td>15</td>\n",
       "      <td>94</td>\n",
       "      <td>-0.201437</td>\n",
       "      <td>3255</td>\n",
       "      <td>-0.417899</td>\n",
       "      <td>-0.749627</td>\n",
       "      <td>3660265</td>\n",
       "      <td>NaN</td>\n",
       "    </tr>\n",
       "    <tr>\n",
       "      <th>9001</th>\n",
       "      <td>3758c01e-1a1c-4bd7-882d-50ac9a0320e7</td>\n",
       "      <td>ZCFCR35A905456015</td>\n",
       "      <td>2023-09-22 07:52:08+00:00</td>\n",
       "      <td>2023-09-22 07:52:23+00:00</td>\n",
       "      <td>True</td>\n",
       "      <td>280.0</td>\n",
       "      <td>0.008923</td>\n",
       "      <td>92.0</td>\n",
       "      <td>-0.587123</td>\n",
       "      <td>13000.0</td>\n",
       "      <td>...</td>\n",
       "      <td>75</td>\n",
       "      <td>-0.173720</td>\n",
       "      <td>15</td>\n",
       "      <td>94</td>\n",
       "      <td>-0.579223</td>\n",
       "      <td>0</td>\n",
       "      <td>0.290456</td>\n",
       "      <td>-1.257047</td>\n",
       "      <td>3660265</td>\n",
       "      <td>92.0</td>\n",
       "    </tr>\n",
       "    <tr>\n",
       "      <th>9002</th>\n",
       "      <td>f87b0aaa-29c1-4cb6-ba2b-c1832ee5978e</td>\n",
       "      <td>ZCFCR35A905456015</td>\n",
       "      <td>2023-09-25 15:29:08+00:00</td>\n",
       "      <td>2023-09-25 15:30:29+00:00</td>\n",
       "      <td>True</td>\n",
       "      <td>NaN</td>\n",
       "      <td>-0.094659</td>\n",
       "      <td>NaN</td>\n",
       "      <td>-0.708052</td>\n",
       "      <td>58000.0</td>\n",
       "      <td>...</td>\n",
       "      <td>39</td>\n",
       "      <td>-0.173720</td>\n",
       "      <td>33</td>\n",
       "      <td>94</td>\n",
       "      <td>-0.421971</td>\n",
       "      <td>10</td>\n",
       "      <td>-0.060457</td>\n",
       "      <td>-1.450326</td>\n",
       "      <td>3660400</td>\n",
       "      <td>NaN</td>\n",
       "    </tr>\n",
       "    <tr>\n",
       "      <th>9003</th>\n",
       "      <td>a18f17a1-9e86-4f25-8aab-3fc350691774</td>\n",
       "      <td>ZCFCR35A905456015</td>\n",
       "      <td>2023-09-26 06:55:57+00:00</td>\n",
       "      <td>2023-09-26 06:59:05+00:00</td>\n",
       "      <td>True</td>\n",
       "      <td>NaN</td>\n",
       "      <td>-0.040501</td>\n",
       "      <td>NaN</td>\n",
       "      <td>-0.828708</td>\n",
       "      <td>140000.0</td>\n",
       "      <td>...</td>\n",
       "      <td>30</td>\n",
       "      <td>0.411984</td>\n",
       "      <td>15</td>\n",
       "      <td>94</td>\n",
       "      <td>-0.156607</td>\n",
       "      <td>35</td>\n",
       "      <td>-0.060457</td>\n",
       "      <td>-1.589164</td>\n",
       "      <td>3660435</td>\n",
       "      <td>NaN</td>\n",
       "    </tr>\n",
       "    <tr>\n",
       "      <th>9004</th>\n",
       "      <td>eeadd2aa-1c36-454a-bd6e-29f26e185e7d</td>\n",
       "      <td>ZCFCR35A905456015</td>\n",
       "      <td>2023-09-26 10:28:52+00:00</td>\n",
       "      <td>2023-09-26 10:29:17+00:00</td>\n",
       "      <td>True</td>\n",
       "      <td>NaN</td>\n",
       "      <td>0.000831</td>\n",
       "      <td>NaN</td>\n",
       "      <td>-0.650182</td>\n",
       "      <td>16000.0</td>\n",
       "      <td>...</td>\n",
       "      <td>46</td>\n",
       "      <td>-0.173720</td>\n",
       "      <td>21</td>\n",
       "      <td>95</td>\n",
       "      <td>-0.277378</td>\n",
       "      <td>0</td>\n",
       "      <td>-0.060457</td>\n",
       "      <td>-1.210701</td>\n",
       "      <td>3660460</td>\n",
       "      <td>NaN</td>\n",
       "    </tr>\n",
       "  </tbody>\n",
       "</table>\n",
       "<p>9005 rows × 50 columns</p>\n",
       "</div>"
      ],
      "text/plain": [
       "                                 SessionId            chassis  \\\n",
       "0     9596ebcb-f59b-40c8-9f47-5f08e49cf5db  ZCFCR35A005544595   \n",
       "1     e249a436-f9b4-444e-9f3f-ac100a0e9a20  ZCFCR35A305520050   \n",
       "2     90e2bc05-dea9-49f7-9edc-b218b983947a  ZCFCR35A305520050   \n",
       "3     0b3e446d-4928-4bc6-8edb-6d464a7466d2  ZCFCR35A305520050   \n",
       "4     c5255160-9178-43fb-a43e-fc7067eeafea  ZCFCR35A305520050   \n",
       "...                                    ...                ...   \n",
       "9000  326872a4-23fe-4753-a37d-fcc88c18444e  ZCFCR35A905456015   \n",
       "9001  3758c01e-1a1c-4bd7-882d-50ac9a0320e7  ZCFCR35A905456015   \n",
       "9002  f87b0aaa-29c1-4cb6-ba2b-c1832ee5978e  ZCFCR35A905456015   \n",
       "9003  a18f17a1-9e86-4f25-8aab-3fc350691774  ZCFCR35A905456015   \n",
       "9004  eeadd2aa-1c36-454a-bd6e-29f26e185e7d  ZCFCR35A905456015   \n",
       "\n",
       "               startOfSampling             endOfSampling  LastSession  \\\n",
       "0    2023-08-24 08:51:13+00:00 2023-08-24 09:05:23+00:00         True   \n",
       "1    2023-09-01 02:42:36+00:00 2023-09-01 02:57:36+00:00        False   \n",
       "2    2023-09-01 02:57:36+00:00 2023-09-01 03:12:36+00:00        False   \n",
       "3    2023-09-01 03:12:37+00:00 2023-09-01 03:27:37+00:00        False   \n",
       "4    2023-09-01 03:27:37+00:00 2023-09-01 03:42:37+00:00        False   \n",
       "...                        ...                       ...          ...   \n",
       "9000 2023-09-22 07:31:17+00:00 2023-09-22 07:38:26+00:00         True   \n",
       "9001 2023-09-22 07:52:08+00:00 2023-09-22 07:52:23+00:00         True   \n",
       "9002 2023-09-25 15:29:08+00:00 2023-09-25 15:30:29+00:00         True   \n",
       "9003 2023-09-26 06:55:57+00:00 2023-09-26 06:59:05+00:00         True   \n",
       "9004 2023-09-26 10:28:52+00:00 2023-09-26 10:29:17+00:00         True   \n",
       "\n",
       "      EngineExhaustTemperatureMin_v01  SpeedProfileTime  \\\n",
       "0                                 NaN         -1.056605   \n",
       "1                                 NaN          4.989493   \n",
       "2                                 NaN          3.896828   \n",
       "3                                 NaN          1.135366   \n",
       "4                                 NaN          0.837419   \n",
       "...                               ...               ...   \n",
       "9000                              NaN         -0.496208   \n",
       "9001                            280.0          0.008923   \n",
       "9002                              NaN         -0.094659   \n",
       "9003                              NaN         -0.040501   \n",
       "9004                              NaN          0.000831   \n",
       "\n",
       "      IntakeManifoldPressureMax_v01  EngineSpeedProfileTime  \\\n",
       "0                               NaN               -1.675291   \n",
       "1                               NaN                1.366198   \n",
       "2                               NaN                1.943174   \n",
       "3                               NaN                1.537823   \n",
       "4                               NaN                2.063445   \n",
       "...                             ...                     ...   \n",
       "9000                            NaN               -1.111826   \n",
       "9001                           92.0               -0.587123   \n",
       "9002                            NaN               -0.708052   \n",
       "9003                            NaN               -0.828708   \n",
       "9004                            NaN               -0.650182   \n",
       "\n",
       "      BatteryChargerConditionTime_v01_7_8  ...  EngineFuelTemperatureMax_v01  \\\n",
       "0                                648000.0  ...                            62   \n",
       "1                                704000.0  ...                            45   \n",
       "2                                703000.0  ...                            45   \n",
       "3                                707000.0  ...                            45   \n",
       "4                                710000.0  ...                            44   \n",
       "...                                   ...  ...                           ...   \n",
       "9000                             340000.0  ...                            53   \n",
       "9001                              13000.0  ...                            75   \n",
       "9002                              58000.0  ...                            39   \n",
       "9003                             140000.0  ...                            30   \n",
       "9004                              16000.0  ...                            46   \n",
       "\n",
       "      VehicleSpeedAvg  ExtTempMax_v01  BarometricPressureAvg_v01  \\\n",
       "0            0.411984              27                        100   \n",
       "1           -1.432984              18                        100   \n",
       "2           -2.106543              18                        100   \n",
       "3           -2.194399              17                        100   \n",
       "4           -1.062501              17                        100   \n",
       "...               ...             ...                        ...   \n",
       "9000        -1.374413              15                         94   \n",
       "9001        -0.173720              15                         94   \n",
       "9002        -0.173720              33                         94   \n",
       "9003         0.411984              15                         94   \n",
       "9004        -0.173720              21                         95   \n",
       "\n",
       "      GasRailPressureTime  SessionDistance_v02  EngineCoolantTemperatureTime  \\\n",
       "0                1.413464                   20                     -1.408751   \n",
       "1                3.467341                16410                     -1.534769   \n",
       "2                1.980852                23590                     -2.226712   \n",
       "3                1.897306                24260                     -2.825307   \n",
       "4                2.210814                24405                     -2.818158   \n",
       "...                   ...                  ...                           ...   \n",
       "9000            -0.201437                 3255                     -0.417899   \n",
       "9001            -0.579223                    0                      0.290456   \n",
       "9002            -0.421971                   10                     -0.060457   \n",
       "9003            -0.156607                   35                     -0.060457   \n",
       "9004            -0.277378                    0                     -0.060457   \n",
       "\n",
       "      RoadSlopeDistance  OdoValueAtEnd_v02  EngineInAirPressureAvg_v01  \n",
       "0             -1.492082              49680                         NaN  \n",
       "1              3.390280           37150010                         NaN  \n",
       "2              5.120925           37173650                         NaN  \n",
       "3              5.778177           37197910                         NaN  \n",
       "4              5.749617           37222315                         NaN  \n",
       "...                 ...                ...                         ...  \n",
       "9000          -0.749627            3660265                         NaN  \n",
       "9001          -1.257047            3660265                        92.0  \n",
       "9002          -1.450326            3660400                         NaN  \n",
       "9003          -1.589164            3660435                         NaN  \n",
       "9004          -1.210701            3660460                         NaN  \n",
       "\n",
       "[9005 rows x 50 columns]"
      ]
     },
     "execution_count": 6,
     "metadata": {},
     "output_type": "execute_result"
    }
   ],
   "source": [
    "clean_df"
   ]
  },
  {
   "cell_type": "code",
   "execution_count": 177,
   "metadata": {},
   "outputs": [
    {
     "data": {
      "text/plain": [
       "0.5007279906224936"
      ]
     },
     "execution_count": 177,
     "metadata": {},
     "output_type": "execute_result"
    },
    {
     "data": {
      "image/png": "[encoded data removed]",
      "text/plain": [
       "<Figure size 640x480 with 1 Axes>"
      ]
     },
     "metadata": {},
     "output_type": "display_data"
    }
   ],
   "source": [
    "k = 24\n",
    "group_columns = clean_df.columns[clean_df.columns.str.startswith(unique[k])]\n",
    "group_df = clean_df[group_columns]\n",
    "rate = np.array(group_df.isna()).sum()/ (group_df.shape[0]* group_df.shape[1])\n",
    "for i in range(group_df.shape[1]):\n",
    "    plt.plot(group_df.iloc[:,i], alpha = 0.5)\n",
    "    plt.title(unique[k])\n",
    "rate\n",
    "\n"
   ]
  },
  {
   "cell_type": "code",
   "execution_count": 178,
   "metadata": {},
   "outputs": [
    {
     "data": {
      "text/plain": [
       "(9005, 18)"
      ]
     },
     "execution_count": 178,
     "metadata": {},
     "output_type": "execute_result"
    }
   ],
   "source": [
    "group_df.shape"
   ]
  },
  {
   "cell_type": "code",
   "execution_count": 37,
   "metadata": {},
   "outputs": [
    {
     "data": {
      "text/plain": [
       "1.0"
      ]
     },
     "execution_count": 37,
     "metadata": {},
     "output_type": "execute_result"
    }
   ],
   "source": [
    "from matplotlib import pyplot as plt\n",
    "import numpy as np\n",
    "column_group = work_df.columns[work_df.columns.str.startswith(unique[9])]\n",
    "group_df = work_df[column_group]\n",
    "na_rate = np.array(group_df.isna()).sum()/ (group_df.shape[0]* group_df.shape[1])"
   ]
  },
  {
   "cell_type": "code",
   "execution_count": null,
   "metadata": {
    "tags": []
   },
   "outputs": [],
   "source": [
    "import pandas as pd\n",
    "\n",
    "# Assuming you have a DataFrame named 'df' with a datetime column named 'datetime_column'\n",
    "# and you want to filter rows after a specific datetime, let's say '2022-01-01 12:00:00'\n",
    "\n",
    "# Sample DataFrame creation (you may already have a DataFrame)\n",
    "data = {'datetime_column': ['2022-01-01 10:00:00', '2022-01-01 12:30:00', '2022-01-02 08:45:00']}\n",
    "df = pd.DataFrame(data)\n",
    "df['datetime_column'] = pd.to_datetime(df['datetime_column'], utc = True)\n",
    "\n",
    "# Specify the datetime threshold for filtering\n",
    "threshold_datetime = pd.to_datetime('2022-01-01 12:00:00', utc=True)\n",
    "\n",
    "# Filter rows based on the datetime_column\n",
    "filtered_df = df[df['datetime_column'] > threshold_datetime]\n",
    "\n",
    "# Display the filtered DataFrame\n",
    "print(filtered_df)"
   ]
  },
  {
   "cell_type": "code",
   "execution_count": null,
   "metadata": {
    "tags": []
   },
   "outputs": [],
   "source": [
    "work_df[['chassis','startOfSampling', 'endOfSampling']].iloc[50:60, :]"
   ]
  },
  {
   "cell_type": "code",
   "execution_count": null,
   "metadata": {
    "tags": []
   },
   "outputs": [],
   "source": [
    "pd.to_datetime(work_df['endOfSampling'])"
   ]
  },
  {
   "cell_type": "code",
   "execution_count": null,
   "metadata": {
    "tags": []
   },
   "outputs": [],
   "source": [
    "from matplotlib import pyplot as plt\n",
    "\n",
    "plt.plot(df.iloc[:,9])"
   ]
  },
  {
   "cell_type": "code",
   "execution_count": null,
   "metadata": {
    "tags": []
   },
   "outputs": [],
   "source": [
    "work_df = work_df.iloc[:,5:] #esclusione colonne iniziali"
   ]
  },
  {
   "cell_type": "code",
   "execution_count": null,
   "metadata": {
    "tags": []
   },
   "outputs": [],
   "source": [
    "na = []\n",
    "for i in range(len(work_df.columns)):\n",
    "    na.append(sum(work_df.iloc[:,i].isna()))\n",
    "\n",
    "fig = plt.hist(na, bins=100)\n",
    "#istogramma (x = quantità di dati mancanti  y = numero di colonne)"
   ]
  },
  {
   "cell_type": "code",
   "execution_count": null,
   "metadata": {
    "tags": []
   },
   "outputs": [],
   "source": [
    "# cancellazione colonne che hanno i nan sopra una certa soglia\n",
    "import numpy as np\n",
    "thresh = 0.75\n",
    "\n",
    "where = (np.array(na) < work_df.shape[0]*thresh)\n",
    "\n",
    "work_df = work_df.iloc[:, where]\n",
    "work_df.shape"
   ]
  },
  {
   "cell_type": "code",
   "execution_count": null,
   "metadata": {
    "tags": []
   },
   "outputs": [],
   "source": [
    "work_df.shape[0]*thresh"
   ]
  },
  {
   "cell_type": "code",
   "execution_count": null,
   "metadata": {
    "tags": []
   },
   "outputs": [],
   "source": [
    "#replace nan rimanenti con la mediana\n",
    "work_df = work_df.fillna(work_df.median())"
   ]
  },
  {
   "cell_type": "code",
   "execution_count": null,
   "metadata": {
    "tags": []
   },
   "outputs": [],
   "source": [
    "#provare a normalizzare per visualizzazione\n",
    "from sklearn.preprocessing import StandardScaler\n",
    "scaler = StandardScaler()\n",
    "work_df_scaled = scaler.fit_transform(np.array(work_df))"
   ]
  },
  {
   "cell_type": "code",
   "execution_count": null,
   "metadata": {
    "tags": []
   },
   "outputs": [],
   "source": [
    "fig = plt.figure(figsize=(30, 8))\n",
    "\n",
    "for i in range(10):\n",
    "    plt.plot(work_df_scaled[:,i], alpha = 0.5, linewidth=0.5)"
   ]
  },
  {
   "cell_type": "code",
   "execution_count": null,
   "metadata": {
    "tags": []
   },
   "outputs": [],
   "source": [
    "import numpy as np\n",
    "a =np.full(10, False, dtype=bool)\n",
    "a"
   ]
  },
  {
   "cell_type": "code",
   "execution_count": 1,
   "metadata": {},
   "outputs": [],
   "source": [
    "import zipfile\n",
    "\n",
    "def unzip_file(zip_file_path, extract_to_path):\n",
    "    with zipfile.ZipFile(zip_file_path, 'r') as zip_ref:\n",
    "        zip_ref.extractall(extract_to_path)\n",
    "        \n",
    "\n",
    "iveco_tva_all = 'datasets/data/IVECO_TVA.zip'\n",
    "path_to_extract = 'datasets/data/IVECO_TVA'\n",
    "\n",
    "unzip_file(iveco_tva_all, path_to_extract)"
   ]
  },
  {
   "cell_type": "code",
   "execution_count": 3,
   "metadata": {},
   "outputs": [],
   "source": [
    "import os\n",
    "for file in os.listdir('datasets/data/IVECO_TVA'):\n",
    "    unzip_file('datasets/data/IVECO_TVA/'+file, 'datasets/data/IVECO_TVA/'+file.replace('.zip', ''))\n",
    "\n",
    "#DELETE ZIPPED FILES"
   ]
  },
  {
   "cell_type": "code",
   "execution_count": 14,
   "metadata": {},
   "outputs": [],
   "source": [
    "import pandas as pd\n",
    "import os\n",
    "\n",
    "\n",
    "dfs = []\n",
    "for file in os.listdir('datasets/data/IVECO_TVA'):\n",
    "    dfs.append(pd.read_csv('datasets/data/IVECO_TVA/'+file+'/'+file+'.csv'))"
   ]
  },
  {
   "cell_type": "code",
   "execution_count": 13,
   "metadata": {},
   "outputs": [
    {
     "data": {
      "text/html": [
       "<div>\n",
       "<style scoped>\n",
       "    .dataframe tbody tr th:only-of-type {\n",
       "        vertical-align: middle;\n",
       "    }\n",
       "\n",
       "    .dataframe tbody tr th {\n",
       "        vertical-align: top;\n",
       "    }\n",
       "\n",
       "    .dataframe thead th {\n",
       "        text-align: right;\n",
       "    }\n",
       "</style>\n",
       "<table border=\"1\" class=\"dataframe\">\n",
       "  <thead>\n",
       "    <tr style=\"text-align: right;\">\n",
       "      <th></th>\n",
       "      <th>chassis</th>\n",
       "      <th>substitution_date</th>\n",
       "      <th>trouble_found</th>\n",
       "      <th>reason</th>\n",
       "    </tr>\n",
       "  </thead>\n",
       "  <tbody>\n",
       "    <tr>\n",
       "      <th>0</th>\n",
       "      <td>WJMMG2AT70C471317</td>\n",
       "      <td>2023-09-04</td>\n",
       "      <td>True</td>\n",
       "      <td>dentino rotto</td>\n",
       "    </tr>\n",
       "    <tr>\n",
       "      <th>1</th>\n",
       "      <td>WJMAG2AP90C470983</td>\n",
       "      <td>2023-08-22</td>\n",
       "      <td>True</td>\n",
       "      <td>dentino rotto</td>\n",
       "    </tr>\n",
       "    <tr>\n",
       "      <th>2</th>\n",
       "      <td>WJMAG2AP20C470842</td>\n",
       "      <td>2023-03-07</td>\n",
       "      <td>True</td>\n",
       "      <td>valve stuck</td>\n",
       "    </tr>\n",
       "    <tr>\n",
       "      <th>3</th>\n",
       "      <td>WJMMG2AT40C478760</td>\n",
       "      <td>2023-02-24</td>\n",
       "      <td>False</td>\n",
       "      <td>None</td>\n",
       "    </tr>\n",
       "    <tr>\n",
       "      <th>4</th>\n",
       "      <td>WJMMG2AT50C475656</td>\n",
       "      <td>2023-01-23</td>\n",
       "      <td>False</td>\n",
       "      <td>None</td>\n",
       "    </tr>\n",
       "    <tr>\n",
       "      <th>5</th>\n",
       "      <td>WJMMG2AT50C476337</td>\n",
       "      <td>2023-01-27</td>\n",
       "      <td>False</td>\n",
       "      <td>None</td>\n",
       "    </tr>\n",
       "  </tbody>\n",
       "</table>\n",
       "</div>"
      ],
      "text/plain": [
       "             chassis substitution_date  trouble_found         reason\n",
       "0  WJMMG2AT70C471317        2023-09-04           True  dentino rotto\n",
       "1  WJMAG2AP90C470983        2023-08-22           True  dentino rotto\n",
       "2  WJMAG2AP20C470842        2023-03-07           True    valve stuck\n",
       "3  WJMMG2AT40C478760        2023-02-24          False           None\n",
       "4  WJMMG2AT50C475656        2023-01-23          False           None\n",
       "5  WJMMG2AT50C476337        2023-01-27          False           None"
      ]
     },
     "execution_count": 13,
     "metadata": {},
     "output_type": "execute_result"
    }
   ],
   "source": [
    "veicoli_sani = [\n",
    "    'WJMEG2RP00C488309',\n",
    "    'WJMMG2AT60C481711',\n",
    "    'WJMEG2RPX0C487877',\n",
    "    'WJMMG2AT50C470652',\n",
    "    'WJMMG2AT20C483648'\n",
    "    ]\n",
    "\n",
    "veicoli_tva = {\n",
    "    'chassis': [\n",
    "        'WJMMG2AT70C471317',\n",
    "        'WJMAG2AP90C470983',\n",
    "        'WJMAG2AP20C470842',\n",
    "        'WJMMG2AT40C478760',\n",
    "        'WJMMG2AT50C475656',\n",
    "        'WJMMG2AT50C476337' \n",
    "        ],\n",
    "    'substitution_date': [\n",
    "        '04/09/2023',\n",
    "        '22/08/2023',\n",
    "        '07/03/2023',\n",
    "        '24/02/2023',\n",
    "        '23/01/2023',\n",
    "        '27/01/2023'\n",
    "        ],\n",
    "    'trouble_found' : [True, True, True, False, False, False],\n",
    "    'reason':['dentino rotto', 'dentino rotto', 'valve stuck', None, None, None ]}\n",
    "veicoli_tva = pd.DataFrame(veicoli_tva)\n",
    "veicoli_tva.substitution_date = pd.to_datetime(veicoli_tva.substitution_date, format='%d/%m/%Y')\n",
    "veicoli_tva"
   ]
  },
  {
   "cell_type": "code",
   "execution_count": 15,
   "metadata": {},
   "outputs": [
    {
     "data": {
      "text/html": [
       "<div>\n",
       "<style scoped>\n",
       "    .dataframe tbody tr th:only-of-type {\n",
       "        vertical-align: middle;\n",
       "    }\n",
       "\n",
       "    .dataframe tbody tr th {\n",
       "        vertical-align: top;\n",
       "    }\n",
       "\n",
       "    .dataframe thead th {\n",
       "        text-align: right;\n",
       "    }\n",
       "</style>\n",
       "<table border=\"1\" class=\"dataframe\">\n",
       "  <thead>\n",
       "    <tr style=\"text-align: right;\">\n",
       "      <th></th>\n",
       "      <th>vin</th>\n",
       "      <th>datetime</th>\n",
       "      <th>timestamp</th>\n",
       "      <th>absoluteTime</th>\n",
       "      <th>ActEngPcTrq</th>\n",
       "      <th>ActEngPcTrqFract</th>\n",
       "      <th>AdvBase</th>\n",
       "      <th>AirFuelRatioOngoingCor</th>\n",
       "      <th>AirPrs</th>\n",
       "      <th>AirReq</th>\n",
       "      <th>...</th>\n",
       "      <th>TcoVehSpeed</th>\n",
       "      <th>ThrotRefPerc</th>\n",
       "      <th>TotVehDistHr</th>\n",
       "      <th>TransmCurGear</th>\n",
       "      <th>zsCrankCasePres</th>\n",
       "      <th>zsPCpf</th>\n",
       "      <th>zsTuTwc</th>\n",
       "      <th>year</th>\n",
       "      <th>month</th>\n",
       "      <th>day</th>\n",
       "    </tr>\n",
       "  </thead>\n",
       "  <tbody>\n",
       "    <tr>\n",
       "      <th>0</th>\n",
       "      <td>WJMAG2AP20C470842</td>\n",
       "      <td>07-Feb-2023 00:16:09</td>\n",
       "      <td>18407.0969</td>\n",
       "      <td>0</td>\n",
       "      <td>0.0</td>\n",
       "      <td>0.000</td>\n",
       "      <td>NaN</td>\n",
       "      <td>1.00000</td>\n",
       "      <td>1.04</td>\n",
       "      <td>20.0</td>\n",
       "      <td>...</td>\n",
       "      <td>0.0</td>\n",
       "      <td>16.0</td>\n",
       "      <td>18518585.0</td>\n",
       "      <td>0.0</td>\n",
       "      <td>NaN</td>\n",
       "      <td>NaN</td>\n",
       "      <td>NaN</td>\n",
       "      <td>2023</td>\n",
       "      <td>2</td>\n",
       "      <td>8</td>\n",
       "    </tr>\n",
       "    <tr>\n",
       "      <th>1</th>\n",
       "      <td>WJMAG2AP20C470842</td>\n",
       "      <td>07-Feb-2023 00:16:10</td>\n",
       "      <td>18407.0970</td>\n",
       "      <td>1</td>\n",
       "      <td>0.0</td>\n",
       "      <td>0.000</td>\n",
       "      <td>-20.0</td>\n",
       "      <td>1.00000</td>\n",
       "      <td>0.99</td>\n",
       "      <td>20.0</td>\n",
       "      <td>...</td>\n",
       "      <td>0.0</td>\n",
       "      <td>15.0</td>\n",
       "      <td>18518585.0</td>\n",
       "      <td>0.0</td>\n",
       "      <td>NaN</td>\n",
       "      <td>NaN</td>\n",
       "      <td>NaN</td>\n",
       "      <td>2023</td>\n",
       "      <td>2</td>\n",
       "      <td>8</td>\n",
       "    </tr>\n",
       "    <tr>\n",
       "      <th>2</th>\n",
       "      <td>WJMAG2AP20C470842</td>\n",
       "      <td>07-Feb-2023 00:16:11</td>\n",
       "      <td>18407.0971</td>\n",
       "      <td>2</td>\n",
       "      <td>0.0</td>\n",
       "      <td>0.000</td>\n",
       "      <td>-20.0</td>\n",
       "      <td>1.00000</td>\n",
       "      <td>1.04</td>\n",
       "      <td>120.0</td>\n",
       "      <td>...</td>\n",
       "      <td>0.0</td>\n",
       "      <td>32.0</td>\n",
       "      <td>18518585.0</td>\n",
       "      <td>0.0</td>\n",
       "      <td>NaN</td>\n",
       "      <td>NaN</td>\n",
       "      <td>NaN</td>\n",
       "      <td>2023</td>\n",
       "      <td>2</td>\n",
       "      <td>8</td>\n",
       "    </tr>\n",
       "    <tr>\n",
       "      <th>3</th>\n",
       "      <td>WJMAG2AP20C470842</td>\n",
       "      <td>07-Feb-2023 00:16:12</td>\n",
       "      <td>18407.0972</td>\n",
       "      <td>3</td>\n",
       "      <td>0.0</td>\n",
       "      <td>0.000</td>\n",
       "      <td>-12.0</td>\n",
       "      <td>1.00000</td>\n",
       "      <td>0.94</td>\n",
       "      <td>235.0</td>\n",
       "      <td>...</td>\n",
       "      <td>0.0</td>\n",
       "      <td>39.0</td>\n",
       "      <td>18518585.0</td>\n",
       "      <td>0.0</td>\n",
       "      <td>NaN</td>\n",
       "      <td>NaN</td>\n",
       "      <td>NaN</td>\n",
       "      <td>2023</td>\n",
       "      <td>2</td>\n",
       "      <td>8</td>\n",
       "    </tr>\n",
       "    <tr>\n",
       "      <th>4</th>\n",
       "      <td>WJMAG2AP20C470842</td>\n",
       "      <td>07-Feb-2023 00:16:13</td>\n",
       "      <td>18407.0973</td>\n",
       "      <td>4</td>\n",
       "      <td>14.0</td>\n",
       "      <td>0.375</td>\n",
       "      <td>-11.0</td>\n",
       "      <td>0.96875</td>\n",
       "      <td>0.37</td>\n",
       "      <td>80.0</td>\n",
       "      <td>...</td>\n",
       "      <td>0.0</td>\n",
       "      <td>16.0</td>\n",
       "      <td>18518585.0</td>\n",
       "      <td>0.0</td>\n",
       "      <td>NaN</td>\n",
       "      <td>NaN</td>\n",
       "      <td>NaN</td>\n",
       "      <td>2023</td>\n",
       "      <td>2</td>\n",
       "      <td>8</td>\n",
       "    </tr>\n",
       "  </tbody>\n",
       "</table>\n",
       "<p>5 rows × 93 columns</p>\n",
       "</div>"
      ],
      "text/plain": [
       "                 vin              datetime   timestamp  absoluteTime  \\\n",
       "0  WJMAG2AP20C470842  07-Feb-2023 00:16:09  18407.0969             0   \n",
       "1  WJMAG2AP20C470842  07-Feb-2023 00:16:10  18407.0970             1   \n",
       "2  WJMAG2AP20C470842  07-Feb-2023 00:16:11  18407.0971             2   \n",
       "3  WJMAG2AP20C470842  07-Feb-2023 00:16:12  18407.0972             3   \n",
       "4  WJMAG2AP20C470842  07-Feb-2023 00:16:13  18407.0973             4   \n",
       "\n",
       "   ActEngPcTrq  ActEngPcTrqFract  AdvBase  AirFuelRatioOngoingCor  AirPrs  \\\n",
       "0          0.0             0.000      NaN                 1.00000    1.04   \n",
       "1          0.0             0.000    -20.0                 1.00000    0.99   \n",
       "2          0.0             0.000    -20.0                 1.00000    1.04   \n",
       "3          0.0             0.000    -12.0                 1.00000    0.94   \n",
       "4         14.0             0.375    -11.0                 0.96875    0.37   \n",
       "\n",
       "   AirReq  ...  TcoVehSpeed  ThrotRefPerc  TotVehDistHr  TransmCurGear  \\\n",
       "0    20.0  ...          0.0          16.0    18518585.0            0.0   \n",
       "1    20.0  ...          0.0          15.0    18518585.0            0.0   \n",
       "2   120.0  ...          0.0          32.0    18518585.0            0.0   \n",
       "3   235.0  ...          0.0          39.0    18518585.0            0.0   \n",
       "4    80.0  ...          0.0          16.0    18518585.0            0.0   \n",
       "\n",
       "   zsCrankCasePres  zsPCpf  zsTuTwc  year  month  day  \n",
       "0              NaN     NaN      NaN  2023      2    8  \n",
       "1              NaN     NaN      NaN  2023      2    8  \n",
       "2              NaN     NaN      NaN  2023      2    8  \n",
       "3              NaN     NaN      NaN  2023      2    8  \n",
       "4              NaN     NaN      NaN  2023      2    8  \n",
       "\n",
       "[5 rows x 93 columns]"
      ]
     },
     "execution_count": 15,
     "metadata": {},
     "output_type": "execute_result"
    }
   ],
   "source": [
    "dfs[0].head(5)"
   ]
  },
  {
   "cell_type": "code",
   "execution_count": 16,
   "metadata": {},
   "outputs": [
    {
     "data": {
      "image/png": "[encoded data removed]",
      "text/plain": [
       "<Figure size 640x480 with 1 Axes>"
      ]
     },
     "metadata": {},
     "output_type": "display_data"
    }
   ],
   "source": [
    "from matplotlib import pyplot as plt\n",
    "for df in dfs:    \n",
    "    na_rate = []\n",
    "    for col in df.columns:\n",
    "        na_rate.append(sum(df[col].isna())/df.shape[0])\n",
    "\n",
    "    plt.plot(na_rate)\n",
    "\n"
   ]
  },
  {
   "cell_type": "code",
   "execution_count": 24,
   "metadata": {},
   "outputs": [
    {
     "data": {
      "text/plain": [
       "Index(['asQacMapSD', 'csExhaustVFlow', 'dsWGTDuty', 'EngRefTrq',\n",
       "       'osLsfSensSigmaCnt', 'osLsfSensSigmaTwcEffMon',\n",
       "       'osLsfSensSigmaTwcEffMonErrSt', 'osLsfSensSigmaTwcEffMonFaultCk',\n",
       "       'osMisfCoilCyl1Tmp1000', 'osMisfCoilCyl1Tmp200',\n",
       "       'osMisfCoilCyl2Tmp1000', 'osMisfCoilCyl2Tmp200',\n",
       "       'osMisfCoilCyl3Tmp1000', 'osMisfCoilCyl3Tmp200',\n",
       "       'osMisfCoilCyl4Tmp1000', 'osMisfCoilCyl4Tmp200',\n",
       "       'osMisfCoilCyl5Tmp1000', 'osMisfCoilCyl5Tmp200',\n",
       "       'osMisfCoilCyl6Tmp1000', 'osMisfCoilCyl6Tmp200', 'osMisfCoilTotTmp1000',\n",
       "       'osMisfCoilTotTmp200', 'osMisfInjCyl1Tmp1000', 'osMisfInjCyl1Tmp200',\n",
       "       'osMisfInjCyl2Tmp1000', 'osMisfInjCyl2Tmp200', 'osMisfInjCyl3Tmp1000',\n",
       "       'osMisfInjCyl3Tmp200', 'osMisfInjCyl4Tmp1000', 'osMisfInjCyl4Tmp200',\n",
       "       'osMisfInjCyl5Tmp1000', 'osMisfInjCyl5Tmp200', 'osMisfInjCyl6Tmp1000',\n",
       "       'osMisfInjCyl6Tmp200', 'osMisfInjTotTmp1000', 'osMisfInjTotTmp200',\n",
       "       'osMSFRD_CYL_THR1000', 'osMSFRD_CYL_THR200', 'osMsfrdSeu1000',\n",
       "       'osMsfrdSeu200', 'osTwcEffMonEnCond', 'zsCrankCasePres', 'zsPCpf',\n",
       "       'zsTuTwc'],\n",
       "      dtype='object')"
      ]
     },
     "execution_count": 24,
     "metadata": {},
     "output_type": "execute_result"
    }
   ],
   "source": [
    "import numpy as np\n",
    "df = dfs[7]\n",
    "df.columns[np.array(na_rate) > 0.99]"
   ]
  },
  {
   "cell_type": "code",
   "execution_count": null,
   "metadata": {},
   "outputs": [],
   "source": []
  }
 ],
 "metadata": {
  "availableInstances": [
   {
    "_defaultOrder": 0,
    "_isFastLaunch": true,
    "category": "General purpose",
    "gpuNum": 0,
    "hideHardwareSpecs": false,
    "memoryGiB": 4,
    "name": "ml.t3.medium",
    "vcpuNum": 2
   },
   {
    "_defaultOrder": 1,
    "_isFastLaunch": false,
    "category": "General purpose",
    "gpuNum": 0,
    "hideHardwareSpecs": false,
    "memoryGiB": 8,
    "name": "ml.t3.large",
    "vcpuNum": 2
   },
   {
    "_defaultOrder": 2,
    "_isFastLaunch": false,
    "category": "General purpose",
    "gpuNum": 0,
    "hideHardwareSpecs": false,
    "memoryGiB": 16,
    "name": "ml.t3.xlarge",
    "vcpuNum": 4
   },
   {
    "_defaultOrder": 3,
    "_isFastLaunch": false,
    "category": "General purpose",
    "gpuNum": 0,
    "hideHardwareSpecs": false,
    "memoryGiB": 32,
    "name": "ml.t3.2xlarge",
    "vcpuNum": 8
   },
   {
    "_defaultOrder": 4,
    "_isFastLaunch": true,
    "category": "General purpose",
    "gpuNum": 0,
    "hideHardwareSpecs": false,
    "memoryGiB": 8,
    "name": "ml.m5.large",
    "vcpuNum": 2
   },
   {
    "_defaultOrder": 5,
    "_isFastLaunch": false,
    "category": "General purpose",
    "gpuNum": 0,
    "hideHardwareSpecs": false,
    "memoryGiB": 16,
    "name": "ml.m5.xlarge",
    "vcpuNum": 4
   },
   {
    "_defaultOrder": 6,
    "_isFastLaunch": false,
    "category": "General purpose",
    "gpuNum": 0,
    "hideHardwareSpecs": false,
    "memoryGiB": 32,
    "name": "ml.m5.2xlarge",
    "vcpuNum": 8
   },
   {
    "_defaultOrder": 7,
    "_isFastLaunch": false,
    "category": "General purpose",
    "gpuNum": 0,
    "hideHardwareSpecs": false,
    "memoryGiB": 64,
    "name": "ml.m5.4xlarge",
    "vcpuNum": 16
   },
   {
    "_defaultOrder": 8,
    "_isFastLaunch": false,
    "category": "General purpose",
    "gpuNum": 0,
    "hideHardwareSpecs": false,
    "memoryGiB": 128,
    "name": "ml.m5.8xlarge",
    "vcpuNum": 32
   },
   {
    "_defaultOrder": 9,
    "_isFastLaunch": false,
    "category": "General purpose",
    "gpuNum": 0,
    "hideHardwareSpecs": false,
    "memoryGiB": 192,
    "name": "ml.m5.12xlarge",
    "vcpuNum": 48
   },
   {
    "_defaultOrder": 10,
    "_isFastLaunch": false,
    "category": "General purpose",
    "gpuNum": 0,
    "hideHardwareSpecs": false,
    "memoryGiB": 256,
    "name": "ml.m5.16xlarge",
    "vcpuNum": 64
   },
   {
    "_defaultOrder": 11,
    "_isFastLaunch": false,
    "category": "General purpose",
    "gpuNum": 0,
    "hideHardwareSpecs": false,
    "memoryGiB": 384,
    "name": "ml.m5.24xlarge",
    "vcpuNum": 96
   },
   {
    "_defaultOrder": 12,
    "_isFastLaunch": false,
    "category": "General purpose",
    "gpuNum": 0,
    "hideHardwareSpecs": false,
    "memoryGiB": 8,
    "name": "ml.m5d.large",
    "vcpuNum": 2
   },
   {
    "_defaultOrder": 13,
    "_isFastLaunch": false,
    "category": "General purpose",
    "gpuNum": 0,
    "hideHardwareSpecs": false,
    "memoryGiB": 16,
    "name": "ml.m5d.xlarge",
    "vcpuNum": 4
   },
   {
    "_defaultOrder": 14,
    "_isFastLaunch": false,
    "category": "General purpose",
    "gpuNum": 0,
    "hideHardwareSpecs": false,
    "memoryGiB": 32,
    "name": "ml.m5d.2xlarge",
    "vcpuNum": 8
   },
   {
    "_defaultOrder": 15,
    "_isFastLaunch": false,
    "category": "General purpose",
    "gpuNum": 0,
    "hideHardwareSpecs": false,
    "memoryGiB": 64,
    "name": "ml.m5d.4xlarge",
    "vcpuNum": 16
   },
   {
    "_defaultOrder": 16,
    "_isFastLaunch": false,
    "category": "General purpose",
    "gpuNum": 0,
    "hideHardwareSpecs": false,
    "memoryGiB": 128,
    "name": "ml.m5d.8xlarge",
    "vcpuNum": 32
   },
   {
    "_defaultOrder": 17,
    "_isFastLaunch": false,
    "category": "General purpose",
    "gpuNum": 0,
    "hideHardwareSpecs": false,
    "memoryGiB": 192,
    "name": "ml.m5d.12xlarge",
    "vcpuNum": 48
   },
   {
    "_defaultOrder": 18,
    "_isFastLaunch": false,
    "category": "General purpose",
    "gpuNum": 0,
    "hideHardwareSpecs": false,
    "memoryGiB": 256,
    "name": "ml.m5d.16xlarge",
    "vcpuNum": 64
   },
   {
    "_defaultOrder": 19,
    "_isFastLaunch": false,
    "category": "General purpose",
    "gpuNum": 0,
    "hideHardwareSpecs": false,
    "memoryGiB": 384,
    "name": "ml.m5d.24xlarge",
    "vcpuNum": 96
   },
   {
    "_defaultOrder": 20,
    "_isFastLaunch": false,
    "category": "General purpose",
    "gpuNum": 0,
    "hideHardwareSpecs": true,
    "memoryGiB": 0,
    "name": "ml.geospatial.interactive",
    "supportedImageNames": [
     "sagemaker-geospatial-v1-0"
    ],
    "vcpuNum": 0
   },
   {
    "_defaultOrder": 21,
    "_isFastLaunch": true,
    "category": "Compute optimized",
    "gpuNum": 0,
    "hideHardwareSpecs": false,
    "memoryGiB": 4,
    "name": "ml.c5.large",
    "vcpuNum": 2
   },
   {
    "_defaultOrder": 22,
    "_isFastLaunch": false,
    "category": "Compute optimized",
    "gpuNum": 0,
    "hideHardwareSpecs": false,
    "memoryGiB": 8,
    "name": "ml.c5.xlarge",
    "vcpuNum": 4
   },
   {
    "_defaultOrder": 23,
    "_isFastLaunch": false,
    "category": "Compute optimized",
    "gpuNum": 0,
    "hideHardwareSpecs": false,
    "memoryGiB": 16,
    "name": "ml.c5.2xlarge",
    "vcpuNum": 8
   },
   {
    "_defaultOrder": 24,
    "_isFastLaunch": false,
    "category": "Compute optimized",
    "gpuNum": 0,
    "hideHardwareSpecs": false,
    "memoryGiB": 32,
    "name": "ml.c5.4xlarge",
    "vcpuNum": 16
   },
   {
    "_defaultOrder": 25,
    "_isFastLaunch": false,
    "category": "Compute optimized",
    "gpuNum": 0,
    "hideHardwareSpecs": false,
    "memoryGiB": 72,
    "name": "ml.c5.9xlarge",
    "vcpuNum": 36
   },
   {
    "_defaultOrder": 26,
    "_isFastLaunch": false,
    "category": "Compute optimized",
    "gpuNum": 0,
    "hideHardwareSpecs": false,
    "memoryGiB": 96,
    "name": "ml.c5.12xlarge",
    "vcpuNum": 48
   },
   {
    "_defaultOrder": 27,
    "_isFastLaunch": false,
    "category": "Compute optimized",
    "gpuNum": 0,
    "hideHardwareSpecs": false,
    "memoryGiB": 144,
    "name": "ml.c5.18xlarge",
    "vcpuNum": 72
   },
   {
    "_defaultOrder": 28,
    "_isFastLaunch": false,
    "category": "Compute optimized",
    "gpuNum": 0,
    "hideHardwareSpecs": false,
    "memoryGiB": 192,
    "name": "ml.c5.24xlarge",
    "vcpuNum": 96
   },
   {
    "_defaultOrder": 29,
    "_isFastLaunch": true,
    "category": "Accelerated computing",
    "gpuNum": 1,
    "hideHardwareSpecs": false,
    "memoryGiB": 16,
    "name": "ml.g4dn.xlarge",
    "vcpuNum": 4
   },
   {
    "_defaultOrder": 30,
    "_isFastLaunch": false,
    "category": "Accelerated computing",
    "gpuNum": 1,
    "hideHardwareSpecs": false,
    "memoryGiB": 32,
    "name": "ml.g4dn.2xlarge",
    "vcpuNum": 8
   },
   {
    "_defaultOrder": 31,
    "_isFastLaunch": false,
    "category": "Accelerated computing",
    "gpuNum": 1,
    "hideHardwareSpecs": false,
    "memoryGiB": 64,
    "name": "ml.g4dn.4xlarge",
    "vcpuNum": 16
   },
   {
    "_defaultOrder": 32,
    "_isFastLaunch": false,
    "category": "Accelerated computing",
    "gpuNum": 1,
    "hideHardwareSpecs": false,
    "memoryGiB": 128,
    "name": "ml.g4dn.8xlarge",
    "vcpuNum": 32
   },
   {
    "_defaultOrder": 33,
    "_isFastLaunch": false,
    "category": "Accelerated computing",
    "gpuNum": 4,
    "hideHardwareSpecs": false,
    "memoryGiB": 192,
    "name": "ml.g4dn.12xlarge",
    "vcpuNum": 48
   },
   {
    "_defaultOrder": 34,
    "_isFastLaunch": false,
    "category": "Accelerated computing",
    "gpuNum": 1,
    "hideHardwareSpecs": false,
    "memoryGiB": 256,
    "name": "ml.g4dn.16xlarge",
    "vcpuNum": 64
   },
   {
    "_defaultOrder": 35,
    "_isFastLaunch": false,
    "category": "Accelerated computing",
    "gpuNum": 1,
    "hideHardwareSpecs": false,
    "memoryGiB": 61,
    "name": "ml.p3.2xlarge",
    "vcpuNum": 8
   },
   {
    "_defaultOrder": 36,
    "_isFastLaunch": false,
    "category": "Accelerated computing",
    "gpuNum": 4,
    "hideHardwareSpecs": false,
    "memoryGiB": 244,
    "name": "ml.p3.8xlarge",
    "vcpuNum": 32
   },
   {
    "_defaultOrder": 37,
    "_isFastLaunch": false,
    "category": "Accelerated computing",
    "gpuNum": 8,
    "hideHardwareSpecs": false,
    "memoryGiB": 488,
    "name": "ml.p3.16xlarge",
    "vcpuNum": 64
   },
   {
    "_defaultOrder": 38,
    "_isFastLaunch": false,
    "category": "Accelerated computing",
    "gpuNum": 8,
    "hideHardwareSpecs": false,
    "memoryGiB": 768,
    "name": "ml.p3dn.24xlarge",
    "vcpuNum": 96
   },
   {
    "_defaultOrder": 39,
    "_isFastLaunch": false,
    "category": "Memory Optimized",
    "gpuNum": 0,
    "hideHardwareSpecs": false,
    "memoryGiB": 16,
    "name": "ml.r5.large",
    "vcpuNum": 2
   },
   {
    "_defaultOrder": 40,
    "_isFastLaunch": false,
    "category": "Memory Optimized",
    "gpuNum": 0,
    "hideHardwareSpecs": false,
    "memoryGiB": 32,
    "name": "ml.r5.xlarge",
    "vcpuNum": 4
   },
   {
    "_defaultOrder": 41,
    "_isFastLaunch": false,
    "category": "Memory Optimized",
    "gpuNum": 0,
    "hideHardwareSpecs": false,
    "memoryGiB": 64,
    "name": "ml.r5.2xlarge",
    "vcpuNum": 8
   },
   {
    "_defaultOrder": 42,
    "_isFastLaunch": false,
    "category": "Memory Optimized",
    "gpuNum": 0,
    "hideHardwareSpecs": false,
    "memoryGiB": 128,
    "name": "ml.r5.4xlarge",
    "vcpuNum": 16
   },
   {
    "_defaultOrder": 43,
    "_isFastLaunch": false,
    "category": "Memory Optimized",
    "gpuNum": 0,
    "hideHardwareSpecs": false,
    "memoryGiB": 256,
    "name": "ml.r5.8xlarge",
    "vcpuNum": 32
   },
   {
    "_defaultOrder": 44,
    "_isFastLaunch": false,
    "category": "Memory Optimized",
    "gpuNum": 0,
    "hideHardwareSpecs": false,
    "memoryGiB": 384,
    "name": "ml.r5.12xlarge",
    "vcpuNum": 48
   },
   {
    "_defaultOrder": 45,
    "_isFastLaunch": false,
    "category": "Memory Optimized",
    "gpuNum": 0,
    "hideHardwareSpecs": false,
    "memoryGiB": 512,
    "name": "ml.r5.16xlarge",
    "vcpuNum": 64
   },
   {
    "_defaultOrder": 46,
    "_isFastLaunch": false,
    "category": "Memory Optimized",
    "gpuNum": 0,
    "hideHardwareSpecs": false,
    "memoryGiB": 768,
    "name": "ml.r5.24xlarge",
    "vcpuNum": 96
   },
   {
    "_defaultOrder": 47,
    "_isFastLaunch": false,
    "category": "Accelerated computing",
    "gpuNum": 1,
    "hideHardwareSpecs": false,
    "memoryGiB": 16,
    "name": "ml.g5.xlarge",
    "vcpuNum": 4
   },
   {
    "_defaultOrder": 48,
    "_isFastLaunch": false,
    "category": "Accelerated computing",
    "gpuNum": 1,
    "hideHardwareSpecs": false,
    "memoryGiB": 32,
    "name": "ml.g5.2xlarge",
    "vcpuNum": 8
   },
   {
    "_defaultOrder": 49,
    "_isFastLaunch": false,
    "category": "Accelerated computing",
    "gpuNum": 1,
    "hideHardwareSpecs": false,
    "memoryGiB": 64,
    "name": "ml.g5.4xlarge",
    "vcpuNum": 16
   },
   {
    "_defaultOrder": 50,
    "_isFastLaunch": false,
    "category": "Accelerated computing",
    "gpuNum": 1,
    "hideHardwareSpecs": false,
    "memoryGiB": 128,
    "name": "ml.g5.8xlarge",
    "vcpuNum": 32
   },
   {
    "_defaultOrder": 51,
    "_isFastLaunch": false,
    "category": "Accelerated computing",
    "gpuNum": 1,
    "hideHardwareSpecs": false,
    "memoryGiB": 256,
    "name": "ml.g5.16xlarge",
    "vcpuNum": 64
   },
   {
    "_defaultOrder": 52,
    "_isFastLaunch": false,
    "category": "Accelerated computing",
    "gpuNum": 4,
    "hideHardwareSpecs": false,
    "memoryGiB": 192,
    "name": "ml.g5.12xlarge",
    "vcpuNum": 48
   },
   {
    "_defaultOrder": 53,
    "_isFastLaunch": false,
    "category": "Accelerated computing",
    "gpuNum": 4,
    "hideHardwareSpecs": false,
    "memoryGiB": 384,
    "name": "ml.g5.24xlarge",
    "vcpuNum": 96
   },
   {
    "_defaultOrder": 54,
    "_isFastLaunch": false,
    "category": "Accelerated computing",
    "gpuNum": 8,
    "hideHardwareSpecs": false,
    "memoryGiB": 768,
    "name": "ml.g5.48xlarge",
    "vcpuNum": 192
   },
   {
    "_defaultOrder": 55,
    "_isFastLaunch": false,
    "category": "Accelerated computing",
    "gpuNum": 8,
    "hideHardwareSpecs": false,
    "memoryGiB": 1152,
    "name": "ml.p4d.24xlarge",
    "vcpuNum": 96
   },
   {
    "_defaultOrder": 56,
    "_isFastLaunch": false,
    "category": "Accelerated computing",
    "gpuNum": 8,
    "hideHardwareSpecs": false,
    "memoryGiB": 1152,
    "name": "ml.p4de.24xlarge",
    "vcpuNum": 96
   },
   {
    "_defaultOrder": 57,
    "_isFastLaunch": false,
    "category": "Accelerated computing",
    "gpuNum": 0,
    "hideHardwareSpecs": false,
    "memoryGiB": 32,
    "name": "ml.trn1.2xlarge",
    "vcpuNum": 8
   },
   {
    "_defaultOrder": 58,
    "_isFastLaunch": false,
    "category": "Accelerated computing",
    "gpuNum": 0,
    "hideHardwareSpecs": false,
    "memoryGiB": 512,
    "name": "ml.trn1.32xlarge",
    "vcpuNum": 128
   },
   {
    "_defaultOrder": 59,
    "_isFastLaunch": false,
    "category": "Accelerated computing",
    "gpuNum": 0,
    "hideHardwareSpecs": false,
    "memoryGiB": 512,
    "name": "ml.trn1n.32xlarge",
    "vcpuNum": 128
   }
  ],
  "instance_type": "ml.t3.medium",
  "kernelspec": {
   "display_name": "mtad-gat",
   "language": "python",
   "name": "python3"
  },
  "language_info": {
   "codemirror_mode": {
    "name": "ipython",
    "version": 3
   },
   "file_extension": ".py",
   "mimetype": "text/x-python",
   "name": "python",
   "nbconvert_exporter": "python",
   "pygments_lexer": "ipython3",
   "version": "3.11.5"
  }
 },
 "nbformat": 4,
 "nbformat_minor": 4
}
